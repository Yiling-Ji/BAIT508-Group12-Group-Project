{
 "cells": [
  {
   "cell_type": "markdown",
   "id": "7ca12784",
   "metadata": {},
   "source": [
    "# Project Title "
   ]
  },
  {
   "cell_type": "markdown",
   "id": "e15df7bb",
   "metadata": {},
   "source": [
    "## Part 1. Quantitative Analysis of the Industry Sector"
   ]
  },
  {
   "cell_type": "markdown",
   "id": "ddb373a9",
   "metadata": {},
   "source": [
    "### A. Industry Sector Selection and Data Filtering"
   ]
  },
  {
   "cell_type": "markdown",
   "id": "b65f29f6",
   "metadata": {},
   "source": [
    "The industry sector our group choose is \"56 Apparel And Accessory Stores\". "
   ]
  }
 ],
 "metadata": {
  "kernelspec": {
   "display_name": "Python 3",
   "language": "python",
   "name": "python3"
  },
  "language_info": {
   "name": "python",
   "version": "3.10.9"
  }
 },
 "nbformat": 4,
 "nbformat_minor": 5
}
